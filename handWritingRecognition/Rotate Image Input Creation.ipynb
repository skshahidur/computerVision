{
 "cells": [
  {
   "cell_type": "code",
   "execution_count": 47,
   "metadata": {
    "collapsed": true
   },
   "outputs": [],
   "source": [
    "import numpy\n",
    "import matplotlib.pyplot\n",
    "%matplotlib inline"
   ]
  },
  {
   "cell_type": "code",
   "execution_count": 48,
   "metadata": {
    "collapsed": true
   },
   "outputs": [],
   "source": [
    "import scipy.ndimage"
   ]
  },
  {
   "cell_type": "code",
   "execution_count": 49,
   "metadata": {
    "collapsed": true
   },
   "outputs": [],
   "source": [
    "# open the CSV file and read its contents into a list\n",
    "data_file = open(\"/Users/sheikhshahidurrahman/Documents/DS/Study/Neural Network/makeyourownneuralnetwork-master/mnist_dataset/mnist_train.csv\", 'r')\n",
    "data_list = data_file.readlines()\n",
    "data_file.close()"
   ]
  },
  {
   "cell_type": "code",
   "execution_count": 50,
   "metadata": {
    "collapsed": false
   },
   "outputs": [],
   "source": [
    "file = open(\"/Users/sheikhshahidurrahman/Documents/DS/Study/Neural Network/makeyourownneuralnetwork-master/mnist_dataset/mnist_train_rotated.csv\", 'w')\n",
    "\n",
    "for i in data_list:\n",
    "    \n",
    "    values = i.split(',')\n",
    "    scaling = ((numpy.asfarray(values[1:]) / 255.0 * 0.99) + 0.01).reshape(28,28)\n",
    "    \n",
    "    scaled = scipy.ndimage.rotate(scaling, 5.0, cval=0.01, order=1, reshape=False).flatten().tolist()\n",
    "    values[1:] = scaled\n",
    "    file.write(str(values) + '\\n')\n",
    "    \n",
    "    scaled1 = scipy.ndimage.rotate(scaling, 10.0, cval=0.01, order=1, reshape=False).flatten().tolist()\n",
    "    values[1:] = scaled1\n",
    "    file.write(str(values) + '\\n')\n",
    "    \n",
    "    scaled2 = scipy.ndimage.rotate(scaling, 15.0, cval=0.01, order=1, reshape=False).flatten().tolist()\n",
    "    values[1:] = scaled2\n",
    "    file.write(str(values) + '\\n')\n",
    "    \n",
    "    scaled3 = scipy.ndimage.rotate(scaling, -50.0, cval=0.01, order=1, reshape=False).flatten().tolist()\n",
    "    values[1:] = scaled3\n",
    "    file.write(str(values) + '\\n')\n",
    "    \n",
    "    scaled4 = scipy.ndimage.rotate(scaling, -10.0, cval=0.01, order=1, reshape=False).flatten().tolist()\n",
    "    values[1:] = scaled4\n",
    "    file.write(str(values) + '\\n')\n",
    "    \n",
    "    scaled5 = scipy.ndimage.rotate(scaling, -15.0, cval=0.01, order=1, reshape=False).flatten().tolist()\n",
    "    values[1:] = scaled5\n",
    "    file.write(str(values) + '\\n')\n",
    "\n",
    "    \n",
    "    pass\n",
    "\n",
    "file.close()"
   ]
  },
  {
   "cell_type": "code",
   "execution_count": null,
   "metadata": {
    "collapsed": true
   },
   "outputs": [],
   "source": []
  }
 ],
 "metadata": {
  "kernelspec": {
   "display_name": "Python 3",
   "language": "python",
   "name": "python3"
  },
  "language_info": {
   "codemirror_mode": {
    "name": "ipython",
    "version": 3
   },
   "file_extension": ".py",
   "mimetype": "text/x-python",
   "name": "python",
   "nbconvert_exporter": "python",
   "pygments_lexer": "ipython3",
   "version": "3.6.0"
  }
 },
 "nbformat": 4,
 "nbformat_minor": 2
}
